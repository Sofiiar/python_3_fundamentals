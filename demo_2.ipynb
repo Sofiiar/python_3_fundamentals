{
 "cells": [
  {
   "cell_type": "code",
   "execution_count": 42,
   "id": "6cc14628-8a18-4b80-955d-b993eb1c5df8",
   "metadata": {},
   "outputs": [],
   "source": [
    "class Vector:\n",
    "    def __init__(self, x, y):\n",
    "        self.x = x\n",
    "        self.y = y\n",
    "\n",
    "    def __add__(self, other):\n",
    "        if isinstance(other, Vector):\n",
    "            return Vector(self.x + other.x, self.y + other.y)\n",
    "\n",
    "    def __repr__(self):\n",
    "        return f'Vector({self.x}, {self.y})'\n",
    "\n",
    "    def __eq__(self, other):\n",
    "        if isinstance(other, Vector):\n",
    "            return self.x == other.x and self.y == other.y\n",
    "        return False"
   ]
  },
  {
   "cell_type": "code",
   "execution_count": 43,
   "id": "486d829f-3b7b-4bae-9514-3beeed72b838",
   "metadata": {},
   "outputs": [],
   "source": [
    "v1 = Vector(1, 1)\n",
    "v2 = Vector(1, 1)\n",
    "v3 = Vector(2, 3)"
   ]
  },
  {
   "cell_type": "code",
   "execution_count": 44,
   "id": "4f57b357-a220-46bf-b59d-681c37bce0e6",
   "metadata": {},
   "outputs": [
    {
     "data": {
      "text/plain": [
       "(4417362480, 4417356960, 4417362720)"
      ]
     },
     "execution_count": 44,
     "metadata": {},
     "output_type": "execute_result"
    }
   ],
   "source": [
    "id(v1), id(v2), id(v3)"
   ]
  },
  {
   "cell_type": "code",
   "execution_count": 64,
   "id": "b0756df8-6255-4f4b-8822-7ba000311f0c",
   "metadata": {},
   "outputs": [],
   "source": [
    "rate = 5.0, 5.12"
   ]
  },
  {
   "cell_type": "raw",
   "id": "f589b9ce-a57d-4c6e-878c-6ea8740887c8",
   "metadata": {},
   "source": [
    "apy, apr = rate"
   ]
  },
  {
   "cell_type": "code",
   "execution_count": 65,
   "id": "307dcefb-779d-42df-9c28-b7cb7559ae04",
   "metadata": {},
   "outputs": [
    {
     "ename": "NameError",
     "evalue": "name 'apy' is not defined",
     "output_type": "error",
     "traceback": [
      "\u001b[0;31m---------------------------------------------------------------------------\u001b[0m",
      "\u001b[0;31mNameError\u001b[0m                                 Traceback (most recent call last)",
      "Cell \u001b[0;32mIn[65], line 1\u001b[0m\n\u001b[0;32m----> 1\u001b[0m \u001b[43mapy\u001b[49m\n",
      "\u001b[0;31mNameError\u001b[0m: name 'apy' is not defined"
     ]
    }
   ],
   "source": [
    "apy\n"
   ]
  },
  {
   "cell_type": "code",
   "execution_count": 66,
   "id": "d72de458-60a7-47db-8b8f-042035ed2c63",
   "metadata": {},
   "outputs": [],
   "source": [
    "a, b = rate"
   ]
  },
  {
   "cell_type": "code",
   "execution_count": 67,
   "id": "2fdc9172-0e30-4e9f-9508-d5f3171ead6a",
   "metadata": {},
   "outputs": [
    {
     "data": {
      "text/plain": [
       "5.0"
      ]
     },
     "execution_count": 67,
     "metadata": {},
     "output_type": "execute_result"
    }
   ],
   "source": [
    "a\n"
   ]
  },
  {
   "cell_type": "code",
   "execution_count": 68,
   "id": "85205bd9-649e-41a9-be77-06ec561fa85d",
   "metadata": {},
   "outputs": [
    {
     "data": {
      "text/plain": [
       "5.12"
      ]
     },
     "execution_count": 68,
     "metadata": {},
     "output_type": "execute_result"
    }
   ],
   "source": [
    "b"
   ]
  },
  {
   "cell_type": "code",
   "execution_count": 69,
   "id": "6da4689f-37c6-458d-8f14-03d8c6eadf45",
   "metadata": {},
   "outputs": [],
   "source": [
    "apr, apy = rate"
   ]
  },
  {
   "cell_type": "code",
   "execution_count": 70,
   "id": "f067114f-5048-48ca-b621-6e22ec0287d0",
   "metadata": {},
   "outputs": [
    {
     "data": {
      "text/plain": [
       "5.0"
      ]
     },
     "execution_count": 70,
     "metadata": {},
     "output_type": "execute_result"
    }
   ],
   "source": [
    "apr"
   ]
  },
  {
   "cell_type": "code",
   "execution_count": 71,
   "id": "a5bea023-6dd7-4598-9eb9-c6ff0bb7ab1f",
   "metadata": {},
   "outputs": [
    {
     "data": {
      "text/plain": [
       "5.12"
      ]
     },
     "execution_count": 71,
     "metadata": {},
     "output_type": "execute_result"
    }
   ],
   "source": [
    "apy"
   ]
  },
  {
   "cell_type": "code",
   "execution_count": 72,
   "id": "1ab63e60-3b1d-4b3e-8eb4-681506d91ebe",
   "metadata": {},
   "outputs": [],
   "source": [
    "a, b, c = 'XYZ'"
   ]
  },
  {
   "cell_type": "code",
   "execution_count": 73,
   "id": "2a900ada-42de-4fba-a3f7-3579f8a7948d",
   "metadata": {},
   "outputs": [
    {
     "data": {
      "text/plain": [
       "'X'"
      ]
     },
     "execution_count": 73,
     "metadata": {},
     "output_type": "execute_result"
    }
   ],
   "source": [
    "a"
   ]
  },
  {
   "cell_type": "code",
   "execution_count": 74,
   "id": "4ffcc04c-9674-472c-bb2c-272f07bfb872",
   "metadata": {},
   "outputs": [
    {
     "data": {
      "text/plain": [
       "'Y'"
      ]
     },
     "execution_count": 74,
     "metadata": {},
     "output_type": "execute_result"
    }
   ],
   "source": [
    "b"
   ]
  },
  {
   "cell_type": "code",
   "execution_count": 75,
   "id": "865def65-8701-4780-bdaa-02ac6c954f29",
   "metadata": {},
   "outputs": [
    {
     "ename": "NameError",
     "evalue": "name 'z' is not defined",
     "output_type": "error",
     "traceback": [
      "\u001b[0;31m---------------------------------------------------------------------------\u001b[0m",
      "\u001b[0;31mNameError\u001b[0m                                 Traceback (most recent call last)",
      "Cell \u001b[0;32mIn[75], line 1\u001b[0m\n\u001b[0;32m----> 1\u001b[0m \u001b[43mz\u001b[49m\n",
      "\u001b[0;31mNameError\u001b[0m: name 'z' is not defined"
     ]
    }
   ],
   "source": [
    "z"
   ]
  },
  {
   "cell_type": "code",
   "execution_count": 76,
   "id": "211fdc25-6f5d-4335-b7f1-b2f71db10ca5",
   "metadata": {},
   "outputs": [
    {
     "data": {
      "text/plain": [
       "'Z'"
      ]
     },
     "execution_count": 76,
     "metadata": {},
     "output_type": "execute_result"
    }
   ],
   "source": [
    "c"
   ]
  },
  {
   "cell_type": "code",
   "execution_count": 77,
   "id": "a5999468-fc93-4fc9-b700-52a120b442c5",
   "metadata": {},
   "outputs": [],
   "source": [
    "s = 'abcdef'\n",
    "a, b, c = [1+1, s[::-1], 3.14]"
   ]
  },
  {
   "cell_type": "code",
   "execution_count": 78,
   "id": "9ce8be2b-5969-45eb-8a90-64eb0472a9f4",
   "metadata": {},
   "outputs": [
    {
     "data": {
      "text/plain": [
       "2"
      ]
     },
     "execution_count": 78,
     "metadata": {},
     "output_type": "execute_result"
    }
   ],
   "source": [
    "a"
   ]
  },
  {
   "cell_type": "code",
   "execution_count": 79,
   "id": "fc92f823-2096-4ad3-8343-57a7f3ebc32e",
   "metadata": {},
   "outputs": [
    {
     "data": {
      "text/plain": [
       "'fedcba'"
      ]
     },
     "execution_count": 79,
     "metadata": {},
     "output_type": "execute_result"
    }
   ],
   "source": [
    "b"
   ]
  },
  {
   "cell_type": "code",
   "execution_count": 80,
   "id": "4b1ee759-5059-4015-a1ab-fef1a09e2c1b",
   "metadata": {},
   "outputs": [
    {
     "data": {
      "text/plain": [
       "3.14"
      ]
     },
     "execution_count": 80,
     "metadata": {},
     "output_type": "execute_result"
    }
   ],
   "source": [
    "c"
   ]
  },
  {
   "cell_type": "code",
   "execution_count": 81,
   "id": "60b62039-da95-4423-b16e-5f95bbebf36a",
   "metadata": {},
   "outputs": [],
   "source": [
    "a, c = c, a"
   ]
  },
  {
   "cell_type": "code",
   "execution_count": 82,
   "id": "f98e0188-3a8a-4865-93ca-bb7abc8597ea",
   "metadata": {},
   "outputs": [
    {
     "data": {
      "text/plain": [
       "3.14"
      ]
     },
     "execution_count": 82,
     "metadata": {},
     "output_type": "execute_result"
    }
   ],
   "source": [
    "a"
   ]
  },
  {
   "cell_type": "code",
   "execution_count": 83,
   "id": "1ed9af5e-53f6-404f-b80d-e553adfa5e21",
   "metadata": {},
   "outputs": [
    {
     "data": {
      "text/plain": [
       "2"
      ]
     },
     "execution_count": 83,
     "metadata": {},
     "output_type": "execute_result"
    }
   ],
   "source": [
    "c"
   ]
  },
  {
   "cell_type": "code",
   "execution_count": null,
   "id": "cf567d23-c2a7-47cf-bffa-0d709efcb4d3",
   "metadata": {},
   "outputs": [],
   "source": []
  }
 ],
 "metadata": {
  "kernelspec": {
   "display_name": "Python 3 (ipykernel)",
   "language": "python",
   "name": "python3"
  },
  "language_info": {
   "codemirror_mode": {
    "name": "ipython",
    "version": 3
   },
   "file_extension": ".py",
   "mimetype": "text/x-python",
   "name": "python",
   "nbconvert_exporter": "python",
   "pygments_lexer": "ipython3",
   "version": "3.12.0"
  }
 },
 "nbformat": 4,
 "nbformat_minor": 5
}
